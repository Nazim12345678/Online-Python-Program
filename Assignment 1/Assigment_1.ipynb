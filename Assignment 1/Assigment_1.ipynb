{
 "cells": [
  {
   "cell_type": "code",
   "execution_count": null,
   "id": "fa00509f",
   "metadata": {},
   "outputs": [],
   "source": [
    "# 1st Assignment "
   ]
  },
  {
   "cell_type": "code",
   "execution_count": null,
   "id": "c9b50694",
   "metadata": {},
   "outputs": [],
   "source": [
    "#1st Question"
   ]
  },
  {
   "cell_type": "code",
   "execution_count": 18,
   "id": "f9baf395",
   "metadata": {},
   "outputs": [],
   "source": [
    "s = '''\\\n",
    "Twinkle, twinkle, little star,\n",
    "         How I wonder what you areI\n",
    "                  Up above the world so high,\n",
    "                  Like a diamond in the sky.\n",
    "Twinkle, twinkle, little star,                 \n",
    "         How I wonder what you are'''\n"
   ]
  },
  {
   "cell_type": "code",
   "execution_count": 19,
   "id": "66d0b972",
   "metadata": {},
   "outputs": [
    {
     "name": "stdout",
     "output_type": "stream",
     "text": [
      "Twinkle, twinkle, little star,\n",
      "         How I wonder what you areI\n",
      "                  Up above the world so high,\n",
      "                  Like a diamond in the sky.\n",
      "Twinkle, twinkle, little star,                 \n",
      "         How I wonder what you are\n"
     ]
    }
   ],
   "source": [
    "print(s)"
   ]
  },
  {
   "cell_type": "code",
   "execution_count": null,
   "id": "5a92ce09",
   "metadata": {},
   "outputs": [],
   "source": [
    "#Q:2 Current version of python find command"
   ]
  },
  {
   "cell_type": "code",
   "execution_count": 21,
   "id": "1e1f0930",
   "metadata": {},
   "outputs": [
    {
     "name": "stdout",
     "output_type": "stream",
     "text": [
      "Python version\n",
      "3.8.8 (default, Apr 13 2021, 15:08:03) [MSC v.1916 64 bit (AMD64)]\n",
      "Version info.\n",
      "sys.version_info(major=3, minor=8, micro=8, releaselevel='final', serial=0)\n"
     ]
    }
   ],
   "source": [
    "import sys\n",
    "print(\"Python version\")\n",
    "print (sys.version)\n",
    "print(\"Version info.\")\n",
    "print (sys.version_info)"
   ]
  },
  {
   "cell_type": "code",
   "execution_count": null,
   "id": "63c89bf4",
   "metadata": {},
   "outputs": [],
   "source": [
    "#Q:3 Current Date and time "
   ]
  },
  {
   "cell_type": "code",
   "execution_count": 20,
   "id": "8c03bd45",
   "metadata": {},
   "outputs": [
    {
     "name": "stdout",
     "output_type": "stream",
     "text": [
      "Current date and time : \n",
      "2021-12-30 00:51:55\n"
     ]
    }
   ],
   "source": [
    "import datetime\n",
    "now = datetime.datetime.now()\n",
    "print (\"Current date and time : \")\n",
    "print (now.strftime(\"%Y-%m-%d %H:%M:%S\"))"
   ]
  },
  {
   "cell_type": "code",
   "execution_count": null,
   "id": "79b4918c",
   "metadata": {},
   "outputs": [],
   "source": [
    "#5:write a python program which accepts the user first and last name and print them in reverse order with a space between them"
   ]
  },
  {
   "cell_type": "code",
   "execution_count": 3,
   "id": "821f3dff",
   "metadata": {},
   "outputs": [
    {
     "name": "stdout",
     "output_type": "stream",
     "text": [
      "Please enter First Name : ali\n",
      "please  enter Last Name : Ahamd\n",
      "Ahamd ali\n"
     ]
    }
   ],
   "source": [
    "firstname = input(\"Please enter First Name : \")\n",
    "lastname = input (\"please  enter Last Name : \")\n",
    "print (lastname + \" \" + firstname)"
   ]
  },
  {
   "cell_type": "code",
   "execution_count": null,
   "id": "03eaecec",
   "metadata": {},
   "outputs": [],
   "source": [
    "#Q:6 write a python program which takes two inputs from user and print them addition"
   ]
  },
  {
   "cell_type": "code",
   "execution_count": 2,
   "id": "949c7631",
   "metadata": {},
   "outputs": [
    {
     "name": "stdout",
     "output_type": "stream",
     "text": [
      "Enter first number: 5\n",
      "Enter second number: 5\n",
      "10.0\n"
     ]
    }
   ],
   "source": [
    "# add two number this number we take from user\n",
    " \n",
    "# Store input numbers\n",
    "num1 = input('Enter first number: ')\n",
    "num2 = input('Enter second number: ')\n",
    " \n",
    "# Add two numbers\n",
    "sum = float(num1) + float(num2)\n",
    " \n",
    "# Display the sum\n",
    "print(sum)"
   ]
  },
  {
   "cell_type": "code",
   "execution_count": null,
   "id": "3a3814d2",
   "metadata": {},
   "outputs": [],
   "source": [
    "#Q:4 this question solve with google help \n",
    "# not exactly clear"
   ]
  },
  {
   "cell_type": "code",
   "execution_count": 4,
   "id": "842de4bc",
   "metadata": {},
   "outputs": [],
   "source": [
    "from math import pi"
   ]
  },
  {
   "cell_type": "code",
   "execution_count": 5,
   "id": "102c89ec",
   "metadata": {},
   "outputs": [
    {
     "name": "stdout",
     "output_type": "stream",
     "text": [
      "Input the radius of the circle : 1\n",
      "The area of the circle with radius 1.0 is: 3.141592653589793\n"
     ]
    }
   ],
   "source": [
    "r = float(input (\"Input the radius of the circle : \"))\n",
    "print (\"The area of the circle with radius \" + str(r) + \" is: \" + str(pi * r**2))"
   ]
  },
  {
   "cell_type": "code",
   "execution_count": null,
   "id": "e4ecde7a",
   "metadata": {},
   "outputs": [],
   "source": []
  }
 ],
 "metadata": {
  "kernelspec": {
   "display_name": "Python 3",
   "language": "python",
   "name": "python3"
  },
  "language_info": {
   "codemirror_mode": {
    "name": "ipython",
    "version": 3
   },
   "file_extension": ".py",
   "mimetype": "text/x-python",
   "name": "python",
   "nbconvert_exporter": "python",
   "pygments_lexer": "ipython3",
   "version": "3.8.8"
  }
 },
 "nbformat": 4,
 "nbformat_minor": 5
}
